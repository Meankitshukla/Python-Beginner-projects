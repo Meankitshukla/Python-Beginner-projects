{
  "nbformat": 4,
  "nbformat_minor": 0,
  "metadata": {
    "colab": {
      "provenance": []
    },
    "kernelspec": {
      "name": "python3",
      "display_name": "Python 3"
    }
  },
  "cells": [
    {
      "cell_type": "code",
      "execution_count": null,
      "metadata": {
        "colab": {
          "base_uri": "https://localhost:8080/"
        },
        "id": "4bqDIgmwES66",
        "outputId": "03680efa-7bd1-431c-ed2d-d69ff12696aa"
      },
      "outputs": [
        {
          "output_type": "stream",
          "name": "stdout",
          "text": [
            "Type your expenses: (type 0 to stop)45\n",
            "Type your expenses: (type 0 to stop)642\n",
            "Type your expenses: (type 0 to stop)885\n",
            "Type your expenses: (type 0 to stop)169\n",
            "Type your expenses: (type 0 to stop)0\n",
            "Your total expenditure is:  1741\n",
            "Maximum you spent:  885\n"
          ]
        }
      ],
      "source": [
        "from datetime import date\n",
        "import csv\n",
        "\n",
        "dt = date.today()\n",
        "dt = dt.strftime(\"%d/%m/%y\")\n",
        "\n",
        "filename = \"XpTracker.csv\"\n",
        "exp = []\n",
        "stopped = False\n",
        "\n",
        "with open(filename, 'a', newline=\"\") as file:\n",
        "  csvwriter = csv.writer(file)\n",
        "  while not stopped:\n",
        "    xp = int(input(\"Type your expenses: (type 0 to stop)\"))\n",
        "    if xp == 0:\n",
        "      stopped = True\n",
        "    else:\n",
        "      csvwriter.writerow([dt,xp])\n",
        "      exp.append(xp)\n",
        "file.close()\n",
        "print(\"Your total expenditure is: \", sum(exp))\n",
        "print(\"Maximum you spent: \",max(exp))"
      ]
    }
  ]
}